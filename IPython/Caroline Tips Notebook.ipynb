{
 "cells": [
  {
   "cell_type": "markdown",
   "metadata": {},
   "source": [
    "# Caroline's Boston PizzaTips"
   ]
  },
  {
   "cell_type": "code",
   "execution_count": 6,
   "metadata": {
    "collapsed": false
   },
   "outputs": [],
   "source": [
    "%matplotlib inline\n",
    "\n",
    "import warnings\n",
    "import pandas as pd\n",
    "import seaborn as sns\n",
    "import scipy.stats as stats\n",
    "import statsmodels.stats.multicomp as posthoc\n",
    "import matplotlib.pyplot as graph\n",
    "\n",
    "warnings.simplefilter('ignore')\n",
    "sns.set()"
   ]
  },
  {
   "cell_type": "markdown",
   "metadata": {},
   "source": [
    "Prep Data"
   ]
  },
  {
   "cell_type": "code",
   "execution_count": 7,
   "metadata": {
    "collapsed": true
   },
   "outputs": [],
   "source": [
    "# Get data\n",
    "column_names = ['#', 'Tips', 'Hours', 'Date', '?']\n",
    "data = pd.read_csv('01-06-2016-tipsee-12-13.csv', header=-1)\n",
    "data.columns = column_names\n",
    "\n",
    "# Add Tips per hour column\n",
    "data['Tips per Hour'] = data['Tips'] / data['Hours']\n",
    "\n",
    "dates = pd.to_datetime(data['Date'])\n",
    "data['Day'] = pd.to_datetime(data['Date']).dt.dayofweek"
   ]
  },
  {
   "cell_type": "markdown",
   "metadata": {},
   "source": [
    "## Results"
   ]
  },
  {
   "cell_type": "code",
   "execution_count": 8,
   "metadata": {
    "collapsed": false,
    "scrolled": false
   },
   "outputs": [
    {
     "data": {
      "image/png": "[encoded data removed]",
      "text/plain": [
       "<matplotlib.figure.Figure at 0xc42230>"
      ]
     },
     "metadata": {},
     "output_type": "display_data"
    }
   ],
   "source": [
    "sns.jointplot(x='Hours', y='Tips', data=pd.DataFrame(data, columns=['Hours', 'Tips']))\n",
    "graph.show()"
   ]
  },
  {
   "cell_type": "code",
   "execution_count": 12,
   "metadata": {
    "collapsed": false
   },
   "outputs": [
    {
     "data": {
      "image/png": "[encoded data removed]",
      "text/plain": [
       "<matplotlib.figure.Figure at 0x87e0850>"
      ]
     },
     "metadata": {},
     "output_type": "display_data"
    }
   ],
   "source": [
    "# Which day has the best tips per hour rate?\n",
    "day_array = {0: 'Mon', 1: 'Tues', 2: 'Weds', 3: 'Thurs', 4: 'Fri', 5: 'Sat', 6: 'Sun'}\n",
    "\n",
    "bar_graph_data = pd.DataFrame(data, columns=['Day', 'Tips per Hour'])\n",
    "bar_graph_data['Day'] = bar_graph_data['Day'].apply(lambda x: day_array[x])\n",
    "\n",
    "sns.barplot(x='Day', y='Tips per Hour', data=bar_graph_data)\n",
    "graph.ylabel('Tips / Hour')\n",
    "graph.show()"
   ]
  },
  {
   "cell_type": "code",
   "execution_count": 10,
   "metadata": {
    "collapsed": false
   },
   "outputs": [
    {
     "name": "stdout",
     "output_type": "stream",
     "text": [
      "Multiple Comparison of Means - Tukey HSD,FWER=0.05\n",
      "==============================================\n",
      "group1 group2 meandiff  lower    upper  reject\n",
      "----------------------------------------------\n",
      "  0      1    -3.6444  -11.393   4.1041 False \n",
      "  0      2    -6.1003  -17.7231  5.5225 False \n",
      "  0      3    -4.4735  -14.7239  5.7768 False \n",
      "  0      4    -5.1725  -13.3911  3.046  False \n",
      "  0      5    -5.5608  -13.5006  2.3791 False \n",
      "  0      6    -2.1383  -9.9744   5.6977 False \n",
      "  1      2    -2.4559  -12.7062  7.7945 False \n",
      "  1      3    -0.8291  -9.4922   7.834  False \n",
      "  1      4    -1.5281  -7.6538   4.5977 False \n",
      "  1      5    -1.9163  -7.6628   3.8301 False \n",
      "  1      6     1.5061  -4.0961   7.1083 False \n",
      "  2      3     1.6268  -10.6247 13.8783 False \n",
      "  2      4     0.9278  -9.6823  11.5379 False \n",
      "  2      5     0.5396  -9.8562  10.9353 False \n",
      "  2      6     3.962   -6.3547  14.2787 False \n",
      "  3      4     -0.699  -9.7849   8.387  False \n",
      "  3      5    -1.0872  -9.9219   7.7474 False \n",
      "  3      6     2.3352  -6.4063  11.0767 False \n",
      "  4      5    -0.3883  -6.7543   5.9778 False \n",
      "  4      6     3.0342  -3.2019   9.2703 False \n",
      "  5      6     3.4224  -2.4415   9.2864 False \n",
      "----------------------------------------------\n"
     ]
    }
   ],
   "source": [
    "# Run ANOVA with Post Hoc test to figure which day is significantly different\n",
    "post_test = posthoc.MultiComparison(data=data['Tips per Hour'], groups=data['Day'])\n",
    "posthoc_test = post_test.tukeyhsd()\n",
    "print(posthoc_test)"
   ]
  },
  {
   "cell_type": "markdown",
   "metadata": {},
   "source": [
    "# Conclusion\n",
    "\n",
    "##### Looks like with the data we've got there's no reason to believe that's you make more tips/hour on a particular day. Sooo that was boring."
   ]
  },
  {
   "cell_type": "markdown",
   "metadata": {},
   "source": []
  }
 ],
 "metadata": {
  "kernelspec": {
   "display_name": "Python 3",
   "language": "python",
   "name": "python3"
  },
  "language_info": {
   "codemirror_mode": {
    "name": "ipython",
    "version": 3
   },
   "file_extension": ".py",
   "mimetype": "text/x-python",
   "name": "python",
   "nbconvert_exporter": "python",
   "pygments_lexer": "ipython3",
   "version": "3.5.1"
  }
 },
 "nbformat": 4,
 "nbformat_minor": 0
}
