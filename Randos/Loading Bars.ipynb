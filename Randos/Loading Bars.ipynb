{
 "cells": [
  {
   "cell_type": "markdown",
   "metadata": {},
   "source": [
    "https://github.com/rasbt/pyprind/blob/master/examples/pyprind_demo.ipynb"
   ]
  },
  {
   "cell_type": "code",
   "execution_count": 1,
   "metadata": {
    "collapsed": false
   },
   "outputs": [],
   "source": [
    "import pyprind\n",
    "import time\n",
    "from IPython.display import display, HTML\n",
    "\n",
    "increments = 25\n",
    "sleep_time = 0.05"
   ]
  },
  {
   "cell_type": "markdown",
   "metadata": {},
   "source": [
    "# Basic Loading Bar"
   ]
  },
  {
   "cell_type": "code",
   "execution_count": 2,
   "metadata": {
    "collapsed": false
   },
   "outputs": [
    {
     "name": "stderr",
     "output_type": "stream",
     "text": [
      "Anthony Rose\n",
      "0%                     100%\n",
      "[=========================] | ETA: 00:00:00\n",
      "Total time elapsed: 00:00:01\n"
     ]
    },
    {
     "name": "stdout",
     "output_type": "stream",
     "text": [
      "Done\n",
      "Title: Anthony Rose\n",
      "  Started: 03/23/2016 19:09:22\n",
      "  Finished: 03/23/2016 19:09:23\n",
      "  Total time elapsed: 00:00:01\n",
      "  CPU %: 3.50\n",
      "  Memory %: 0.34\n"
     ]
    }
   ],
   "source": [
    "progress_bar = pyprind.ProgBar(increments, title='Anthony Rose', bar_char='=', monitor=True)  # <- Monitor requires psutil\n",
    "for i in range(increments):\n",
    "    time.sleep(sleep_time)\n",
    "    progress_bar.update()\n",
    "print('Done')\n",
    "print(progress_bar)"
   ]
  },
  {
   "cell_type": "markdown",
   "metadata": {},
   "source": [
    "# Basic Percentage Loader"
   ]
  },
  {
   "cell_type": "code",
   "execution_count": 3,
   "metadata": {
    "collapsed": false
   },
   "outputs": [
    {
     "name": "stderr",
     "output_type": "stream",
     "text": [
      "[100 %] Time elapsed: 00:00:01 | ETA: 00:00:00"
     ]
    },
    {
     "name": "stdout",
     "output_type": "stream",
     "text": [
      "Done\n"
     ]
    },
    {
     "name": "stderr",
     "output_type": "stream",
     "text": [
      "\n",
      "Total time elapsed: 00:00:01\n"
     ]
    }
   ],
   "source": [
    "progress_percent = pyprind.ProgPercent(increments)\n",
    "for i in range(increments):\n",
    "    time.sleep(sleep_time)\n",
    "    progress_percent.update()\n",
    "print('Done')"
   ]
  },
  {
   "cell_type": "markdown",
   "metadata": {},
   "source": [
    "# Progress by for loop high-jacking"
   ]
  },
  {
   "cell_type": "code",
   "execution_count": 4,
   "metadata": {
    "collapsed": false
   },
   "outputs": [
    {
     "name": "stderr",
     "output_type": "stream",
     "text": [
      "0%                     100%\n",
      "[#########################] | ETA: 00:00:00\n",
      "Total time elapsed: 00:00:01\n",
      "[100 %] Time elapsed: 00:00:01 | ETA: 00:00:00\n",
      "Total time elapsed: 00:00:01\n"
     ]
    }
   ],
   "source": [
    "for i in pyprind.prog_bar(range(increments)):\n",
    "    time.sleep(sleep_time)\n",
    "\n",
    "for i in pyprind.prog_percent(range(increments)):\n",
    "    time.sleep(sleep_time)"
   ]
  },
  {
   "cell_type": "code",
   "execution_count": null,
   "metadata": {
    "collapsed": true
   },
   "outputs": [],
   "source": []
  }
 ],
 "metadata": {
  "kernelspec": {
   "display_name": "Python 3",
   "language": "python",
   "name": "python3"
  },
  "language_info": {
   "codemirror_mode": {
    "name": "ipython",
    "version": 3
   },
   "file_extension": ".py",
   "mimetype": "text/x-python",
   "name": "python",
   "nbconvert_exporter": "python",
   "pygments_lexer": "ipython3",
   "version": "3.5.1"
  }
 },
 "nbformat": 4,
 "nbformat_minor": 0
}
